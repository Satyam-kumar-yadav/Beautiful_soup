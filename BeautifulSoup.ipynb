{
  "nbformat": 4,
  "nbformat_minor": 0,
  "metadata": {
    "colab": {
      "name": "BeautifulSoup.ipynb",
      "provenance": [],
      "collapsed_sections": [],
      "authorship_tag": "ABX9TyMx3NkGMce0ea4FAUb32smO",
      "include_colab_link": true
    },
    "kernelspec": {
      "name": "python3",
      "display_name": "Python 3"
    }
  },
  "cells": [
    {
      "cell_type": "markdown",
      "metadata": {
        "id": "view-in-github",
        "colab_type": "text"
      },
      "source": [
        "<a href=\"https://colab.research.google.com/github/Satyam-kumar-yadav/Beautiful_soup/blob/main/BeautifulSoup.ipynb\" target=\"_parent\"><img src=\"https://colab.research.google.com/assets/colab-badge.svg\" alt=\"Open In Colab\"/></a>"
      ]
    },
    {
      "cell_type": "code",
      "metadata": {
        "id": "zYLKh14_CRWl"
      },
      "source": [
        "!pip install beautifulsoup4"
      ],
      "execution_count": null,
      "outputs": []
    },
    {
      "cell_type": "code",
      "metadata": {
        "id": "Wz-YrrHMCjM1"
      },
      "source": [
        "!pip install requests\n"
      ],
      "execution_count": null,
      "outputs": []
    },
    {
      "cell_type": "code",
      "metadata": {
        "id": "oR3DPXiZCnVR"
      },
      "source": [
        "from bs4 import BeautifulSoup as bs"
      ],
      "execution_count": null,
      "outputs": []
    },
    {
      "cell_type": "code",
      "metadata": {
        "id": "Ne9o2KOQDqFg"
      },
      "source": [
        "import requests"
      ],
      "execution_count": null,
      "outputs": []
    },
    {
      "cell_type": "code",
      "metadata": {
        "id": "tRmRxzEaJeH1"
      },
      "source": [
        "r = requests.get('https://en.wikipedia.org/wiki/Toy_Story')\n",
        "data = r.text\n",
        "soup = bs(data)\n",
        "report_tables=soup.find(class_='infobox vevent')\n",
        "table_row_toy = report_tables.find_all(\"tr\")\n",
        "for row in table_row_toy:\n",
        "  print(row.prettify)\n",
        "\n"
      ],
      "execution_count": null,
      "outputs": []
    },
    {
      "cell_type": "code",
      "metadata": {
        "id": "mHzk9_deUPYt",
        "outputId": "290c3d96-53ab-487f-dd9b-eeff47bad7a6",
        "colab": {
          "base_uri": "https://localhost:8080/",
          "height": 487
        }
      },
      "source": [
        "movie_info = {}\n",
        "for index , row in enumerate(table_row_toy):\n",
        "  if index == 0:\n",
        "    movie_info['title'] = row.find(\"th\").get_text()\n",
        "  elif index == 1:\n",
        "    continue\n",
        "  else:\n",
        "    content_key = row.find(\"th\").get_text(\" \" , strip = True) \n",
        "    content_value = row.find(\"td\").get_text().strip().splitlines()\n",
        "\n",
        "    movie_info[content_key] = content_value\n",
        "\n",
        "movie_info"
      ],
      "execution_count": 29,
      "outputs": [
        {
          "output_type": "execute_result",
          "data": {
            "text/plain": [
              "{'Box office': ['$373.6\\xa0million[3]'],\n",
              " 'Budget': ['$30\\xa0million[2]'],\n",
              " 'Country': ['United States'],\n",
              " 'Directed by': ['John Lasseter'],\n",
              " 'Distributed by': ['Buena Vista Pictures Distribution'],\n",
              " 'Edited by': ['Robert Gordon', 'Lee Unkrich'],\n",
              " 'Language': ['English'],\n",
              " 'Music by': ['Randy Newman'],\n",
              " 'Produced by': ['Bonnie Arnold', 'Ralph Guggenheim'],\n",
              " 'Production company': ['Walt Disney Pictures', 'Pixar Animation Studios'],\n",
              " 'Release date': ['November\\xa019,\\xa01995\\xa0(1995-11-19) (El Capitan Theatre)',\n",
              "  'November\\xa022,\\xa01995\\xa0(1995-11-22) (United States)'],\n",
              " 'Running time': ['81 minutes[1]'],\n",
              " 'Screenplay by': ['Joss Whedon',\n",
              "  'Andrew Stanton',\n",
              "  'Joel Cohen',\n",
              "  'Alec Sokolow'],\n",
              " 'Starring': ['Tom Hanks',\n",
              "  'Tim Allen',\n",
              "  'Don Rickles',\n",
              "  'Jim Varney',\n",
              "  'Wallace Shawn',\n",
              "  'John Ratzenberger',\n",
              "  'Annie Potts',\n",
              "  'John Morris',\n",
              "  'Erik von Detten'],\n",
              " 'Story by': ['John Lasseter', 'Pete Docter', 'Andrew Stanton', 'Joe Ranft'],\n",
              " 'title': 'Toy Story'}"
            ]
          },
          "metadata": {
            "tags": []
          },
          "execution_count": 29
        }
      ]
    },
    {
      "cell_type": "code",
      "metadata": {
        "id": "Ci-Jnel7DL8b"
      },
      "source": [
        ""
      ],
      "execution_count": null,
      "outputs": []
    }
  ]
}