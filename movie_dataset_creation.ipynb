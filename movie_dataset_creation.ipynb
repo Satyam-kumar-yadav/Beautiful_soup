{
  "nbformat": 4,
  "nbformat_minor": 0,
  "metadata": {
    "colab": {
      "name": "movie_dataset_creation.ipynb",
      "provenance": [],
      "collapsed_sections": [],
      "mount_file_id": "1Zjtp_PyovAOeoT-v5zmqUv9U9ktCeTkU",
      "authorship_tag": "ABX9TyODqJLFCtruyOzSOlowICs0",
      "include_colab_link": true
    },
    "kernelspec": {
      "name": "python3",
      "display_name": "Python 3"
    }
  },
  "cells": [
    {
      "cell_type": "markdown",
      "metadata": {
        "id": "view-in-github",
        "colab_type": "text"
      },
      "source": [
        "<a href=\"https://colab.research.google.com/github/Satyam-kumar-yadav/Beautiful_soup/blob/main/movie_dataset_creation.ipynb\" target=\"_parent\"><img src=\"https://colab.research.google.com/assets/colab-badge.svg\" alt=\"Open In Colab\"/></a>"
      ]
    },
    {
      "cell_type": "code",
      "metadata": {
        "id": "o9Z_wyNb8qZP",
        "outputId": "7c857ec5-7cc4-4585-b3db-aac77e6b96bd",
        "colab": {
          "base_uri": "https://localhost:8080/",
          "height": 118
        }
      },
      "source": [
        "!pip install requests\n",
        "!pip install beautifulsoup4"
      ],
      "execution_count": null,
      "outputs": [
        {
          "output_type": "stream",
          "text": [
            "Requirement already satisfied: requests in /usr/local/lib/python3.6/dist-packages (2.23.0)\n",
            "Requirement already satisfied: urllib3!=1.25.0,!=1.25.1,<1.26,>=1.21.1 in /usr/local/lib/python3.6/dist-packages (from requests) (1.24.3)\n",
            "Requirement already satisfied: idna<3,>=2.5 in /usr/local/lib/python3.6/dist-packages (from requests) (2.10)\n",
            "Requirement already satisfied: certifi>=2017.4.17 in /usr/local/lib/python3.6/dist-packages (from requests) (2020.6.20)\n",
            "Requirement already satisfied: chardet<4,>=3.0.2 in /usr/local/lib/python3.6/dist-packages (from requests) (3.0.4)\n",
            "Requirement already satisfied: beautifulsoup4 in /usr/local/lib/python3.6/dist-packages (4.6.3)\n"
          ],
          "name": "stdout"
        }
      ]
    },
    {
      "cell_type": "code",
      "metadata": {
        "id": "SzX2mPgO-C1e"
      },
      "source": [
        "import requests\n",
        "from bs4 import BeautifulSoup as bs"
      ],
      "execution_count": 3,
      "outputs": []
    },
    {
      "cell_type": "code",
      "metadata": {
        "id": "ZM90yQGAAO8j"
      },
      "source": [
        "def get_content_value(row_data):\n",
        "    if row_data.find(\"li\"):\n",
        "        return [li.get_text(\" \", strip=True).replace(\"\\xa0\", \" \") for li in row_data.find_all(\"li\")]\n",
        "    elif row_data.find(\"br\"):\n",
        "        return [text for text in row_data.stripped_strings]\n",
        "    else:\n",
        "        return row_data.get_text(\" \", strip=True).replace(\"\\xa0\", \" \")\n",
        "\n",
        "def clean_tags(soup):\n",
        "    for tag in soup.find_all([\"sup\", \"span\"]):\n",
        "        tag.decompose()\n",
        "        \n",
        "def get_info_box(url):\n",
        "\n",
        "    r = requests.get(url)\n",
        "    soup = bs(r.content)\n",
        "    info_box = soup.find(class_=\"infobox vevent\")\n",
        "    info_rows = info_box.find_all(\"tr\")\n",
        "    \n",
        "    clean_tags(soup)\n",
        "\n",
        "    movie_info = {}\n",
        "    for index, row in enumerate(info_rows):\n",
        "        if index == 0:\n",
        "            movie_info['title'] = row.find(\"th\").get_text(\" \", strip=True)\n",
        "        else:\n",
        "            header = row.find('th')\n",
        "            if header:\n",
        "                content_key = row.find(\"th\").get_text(\" \", strip=True)\n",
        "                content_value = get_content_value(row.find(\"td\"))\n",
        "                movie_info[content_key] = content_value\n",
        "    return movie_info        "
      ],
      "execution_count": 1,
      "outputs": []
    },
    {
      "cell_type": "code",
      "metadata": {
        "id": "fCNWzODO-57K"
      },
      "source": [
        "\n",
        "r = requests.get(\"https://en.wikipedia.org/wiki/List_of_Walt_Disney_Pictures_films\")\n",
        "soup = bs(r.content)\n",
        "movies = soup.select(\".wikitable.sortable i a\")\n",
        "\n",
        "base_path = \"https://en.wikipedia.org/\"\n",
        "\n",
        "movie_info_list = []\n",
        "for index, movie in enumerate(movies):\n",
        "    if index % 10 == 0:\n",
        "        print(index)\n",
        "    try:\n",
        "        relative_path = movie['href']\n",
        "        full_path = base_path + relative_path\n",
        "        title = movie['title']\n",
        "        \n",
        "        movie_info_list.append(get_info_box(full_path))\n",
        "        \n",
        "    except Exception as e:\n",
        "        print(movie.get_text())\n",
        "        print(e)"
      ],
      "execution_count": null,
      "outputs": []
    },
    {
      "cell_type": "code",
      "metadata": {
        "id": "grBtwjlxXJ3i"
      },
      "source": [
        "import json\n",
        "\n",
        "def save_data(title, data):\n",
        "    with open(title, 'w', encoding='utf-8') as f:\n",
        "        json.dump(data, f, ensure_ascii=False, indent=2)\n",
        "\n",
        "\n",
        "def load_data(title):\n",
        "    with open(title, encoding=\"utf-8\") as f:\n",
        "        return json.load(f)"
      ],
      "execution_count": 6,
      "outputs": []
    },
    {
      "cell_type": "code",
      "metadata": {
        "id": "RFhMhX5klu67"
      },
      "source": [
        "save_data(\"disney_data_cleaned.json\", movie_info_list)"
      ],
      "execution_count": 7,
      "outputs": []
    }
  ]
}